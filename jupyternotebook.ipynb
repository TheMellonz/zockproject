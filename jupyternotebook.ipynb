{
 "cells": [
  {
   "cell_type": "markdown",
   "id": "8f773288",
   "metadata": {},
   "source": [
    "# frameworks\n"
   ]
  },
  {
   "cell_type": "markdown",
   "id": "a3ff381c",
   "metadata": {},
   "source": [
    "Un framework es un conjunto de herramientas, librerías, convenciones y patrones preestablecidos que te proporcionan una estructura básica sobre la cual construir aplicaciones de software. Imagínalo como un \"esqueleto\" o una plantilla ya montada que te da un punto de partida sólido para desarrollar, en lugar de empezar desde cero cada vez.\n",
    "\n",
    "El objetivo principal de un framework es simplificar y acelerar el proceso de desarrollo de software. "
   ]
  },
  {
   "cell_type": "markdown",
   "id": "aa05dc41",
   "metadata": {},
   "source": [
    "## Diferencias entre frameworks de backend y frontend"
   ]
  },
  {
   "cell_type": "markdown",
   "id": "c56efacb",
   "metadata": {},
   "source": [
    "En el desarrollo de aplicaciones web, distinguimos dos componentes principales que trabajan juntos: el frontend (lo que el usuario ve y usa) y el backend (lo que sucede \"detrás de escenas\" en el servidor). Cada uno utiliza sus propios frameworks, herramientas que nos dan una estructura para construir más rápido y de forma organizada."
   ]
  },
  {
   "cell_type": "markdown",
   "id": "0c3c3bfd",
   "metadata": {},
   "source": [
    "Frameworks de Backend \n",
    "¿Dónde se ejecuta? En el servidor.\n",
    "¿Qué hace? Gestiona la lógica de negocio, la base de datos, la seguridad y la autenticación de usuarios. Es el cerebro de la aplicación.\n",
    "Ejemplos de tareas: Procesar pagos, guardar información de usuarios, consultar productos, gestionar permisos.\n",
    "Tecnologías comunes: Python (Django, Flask), PHP (Laravel), Node.js (Express), Java (Spring Boot), Ruby (Ruby on Rails).\n",
    "\n",
    "Frameworks de Frontend\n",
    "¿Dónde se ejecuta? En el navegador del cliente (tu computadora o móvil).\n",
    "¿Qué hace? Construye y gestiona la interfaz de usuario (UI) y la experiencia de usuario (UX). Todo lo que ves y con lo que interactúas en una página web.\n",
    "Ejemplos de tareas: Mostrar botones, formularios, menús; actualizar la página sin recargarla; animaciones; validar datos en formularios.\n",
    "Tecnologías comunes: JavaScript (React, Angular, Vue.js), HTML, CSS."
   ]
  },
  {
   "cell_type": "markdown",
   "id": "a96f9b99",
   "metadata": {},
   "source": [
    "## que es una api?\n"
   ]
  },
  {
   "cell_type": "markdown",
   "id": "299eb61f",
   "metadata": {},
   "source": [
    "¿Qué es una API?\n",
    "Una API significa Application Programming Interface (Interfaz de Programación de Aplicaciones).\n",
    "\n",
    "En su esencia, una API es un conjunto de reglas, protocolos y herramientas que permiten que diferentes aplicaciones de software se comuniquen entre sí. Define cómo los componentes de software deben interactuar y qué tipo de solicitudes pueden hacerse entre ellos.\n",
    "\n",
    "Componentes Clave de una API\n",
    "Una API establece un \"contrato\" entre dos aplicaciones, detallando:\n",
    "\n",
    "Qué solicitudes se pueden realizar: Especifica las acciones o datos a los que se puede acceder.\n",
    "Cómo se deben hacer esas solicitudes: Define la estructura, el formato y los métodos para enviar la información.\n",
    "Qué formato de datos se utilizará: Establece cómo se enviará y recibirá la información (comúnmente JSON o XML en APIs web).\n",
    "Qué respuestas se esperan: Indica cómo la aplicación receptora devolverá los resultados de la solicitud.\n",
    "Funcionalidad y Propósito de una API\n",
    "Las APIs son fundamentales para la interoperabilidad en el desarrollo de software. Permiten:\n",
    "\n",
    "Integración de Sistemas: Conectan tu aplicación con servicios externos. Por ejemplo, una aplicación de comercio electrónico utiliza una API de un servicio de pago para procesar transacciones sin tener que desarrollar su propio sistema de pago.\n",
    "Reutilización de Funcionalidades: Permiten a los desarrolladores utilizar funcionalidades ya existentes de otros servicios en lugar de construirlas desde cero. Un ejemplo es el uso de una API de mapas en una aplicación para mostrar ubicaciones.\n",
    "Modularidad: Facilitan la división de sistemas complejos en componentes más pequeños y manejables que pueden interactuar.\n",
    "Automatización: Permiten la programación de tareas automáticas entre diferentes servicios o aplicaciones.\n",
    "Desarrollo Eficiente: Aceleran el proceso de desarrollo al proporcionar puntos de acceso estandarizados a funcionalidades y datos.\n",
    "Tipos Comunes de APIs\n",
    "Aunque el término API es amplio, en el contexto de desarrollo actual, los tipos más comunes incluyen:\n",
    "\n",
    "APIs Web (RESTful APIs): Son las más prevalentes y se utilizan para la comunicación entre el frontend y el backend de una aplicación, o entre diferentes servidores a través de internet. Se basan en protocolos web como HTTP y suelen intercambiar datos en formatos como JSON. Ejemplos incluyen APIs para obtener datos meteorológicos, publicar en redes sociales o acceder a información de productos.\n",
    "APIs de Librerías/Sistemas Operativos: Estas APIs proporcionan acceso a las funciones y capacidades de una librería de programación específica o de un sistema operativo. Por ejemplo, las APIs de un sistema operativo permiten a las aplicaciones interactuar con el hardware o el sistema de archivos del dispositivo, mientras que las APIs de una librería (como una librería de gráficos) permiten a los desarrolladores usar sus funciones predefinidas.\n"
   ]
  }
 ],
 "metadata": {
  "language_info": {
   "name": "python"
  }
 },
 "nbformat": 4,
 "nbformat_minor": 5
}
